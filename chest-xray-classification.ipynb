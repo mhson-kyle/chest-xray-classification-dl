{
 "cells": [
  {
   "cell_type": "code",
   "execution_count": 1,
   "metadata": {},
   "outputs": [],
   "source": [
    "import numpy as np\n",
    "import pandas as pd\n",
    "import matplotlib.pyplot as plt\n",
    "\n",
    "import glob\n",
    "import cv2\n",
    "import os\n",
    "\n",
    "import tensorflow as tf\n",
    "from tensorflow import keras\n",
    "from keras.layers import Dense, Conv2D, Dropout, Flatten, Input, BatchNormalization, MaxPool2D, Activation, GlobalAveragePooling2D\n",
    "from keras.models import Sequential, Model\n",
    "from keras.preprocessing.image import ImageDataGenerator\n",
    "\n",
    "from sklearn.model_selection import train_test_split\n",
    "from sklearn.metrics import confusion_matrix, classification_report, ConfusionMatrixDisplay"
   ]
  },
  {
   "cell_type": "code",
   "execution_count": 2,
   "metadata": {},
   "outputs": [],
   "source": [
    "tf.random.set_seed(42)\n",
    "np.random.seed(42)\n",
    "\n",
    "IMG_SIZE = 224\n",
    "BASE_PATH = 'dataset/chest_xray/'\n",
    "\n",
    "train_path = os.path.join(BASE_PATH, 'train/')\n",
    "test_path = os.path.join(BASE_PATH, 'test/')"
   ]
  },
  {
   "cell_type": "code",
   "execution_count": 3,
   "metadata": {},
   "outputs": [],
   "source": [
    "train_normal = glob.glob(train_path + '/NORMAL/*.jpeg')\n",
    "train_pneumonia = glob.glob(train_path + '/PNEUMONIA/*.jpeg')\n",
    "\n",
    "test_normal = glob.glob(test_path + '/NORMAL/*.jpeg')\n",
    "test_pneumonia = glob.glob(test_path + '/PNEUMONIA/*.jpeg')"
   ]
  },
  {
   "cell_type": "code",
   "execution_count": 4,
   "metadata": {},
   "outputs": [],
   "source": [
    "X_train = [i for i in (train_normal + train_pneumonia)]\n",
    "y_train = np.concatenate([['Normal']*len(train_normal) , ['Pneumonia']*len(train_pneumonia)])\n",
    "\n",
    "X_test = [i for i in (test_normal + test_pneumonia)]\n",
    "y_test = np.concatenate([['Normal']*len(test_normal) , ['Pneumonia']*len(test_pneumonia)])"
   ]
  },
  {
   "cell_type": "code",
   "execution_count": 5,
   "metadata": {},
   "outputs": [],
   "source": [
    "X_train, X_val, y_train, y_val = train_test_split(X_train, y_train, test_size=0.2)"
   ]
  },
  {
   "cell_type": "code",
   "execution_count": 6,
   "metadata": {},
   "outputs": [
    {
     "name": "stdout",
     "output_type": "stream",
     "text": [
      "Train : 4185, Val : 1047, Test : 624\n"
     ]
    }
   ],
   "source": [
    "print(f'Train : {len(X_train)}, Val : {len(X_val)}, Test : {len(X_test)}')"
   ]
  },
  {
   "cell_type": "code",
   "execution_count": null,
   "metadata": {},
   "outputs": [],
   "source": [
    "def plot_img(img_file):\n",
    "    plt.figure(figsize=(12,12))\n",
    "    img = cv2.imread(img_file)\n",
    "    img = cv2.resize(img, (IMG_SIZE,IMG_SIZE))\n",
    "    plt.imshow(img)\n",
    "    plt.axis(\"off\")\n",
    "    plt.show()"
   ]
  },
  {
   "cell_type": "code",
   "execution_count": 7,
   "metadata": {},
   "outputs": [
    {
     "name": "stdout",
     "output_type": "stream",
     "text": [
      "Found 4185 validated image filenames belonging to 2 classes.\n",
      "Found 1047 validated image filenames belonging to 2 classes.\n",
      "Found 624 validated image filenames belonging to 2 classes.\n"
     ]
    }
   ],
   "source": [
    "train_datagen = ImageDataGenerator(rescale=1/255.,\n",
    "                                    zoom_range = 0.1,\n",
    "                                    width_shift_range = 0.1,\n",
    "                                    height_shift_range = 0.1)\n",
    "\n",
    "test_datagen = ImageDataGenerator(rescale=1/255.)\n",
    "\n",
    "train_set = train_datagen.flow_from_dataframe(pd.DataFrame({'image': X_train, 'target' : y_train}),\n",
    "                                                x_col='image',\n",
    "                                                y_col='target',\n",
    "                                                target_size=(IMG_SIZE, IMG_SIZE),\n",
    "                                                class_mode='binary',\n",
    "                                                batch_size=32,\n",
    "                                                seed=42)\n",
    "\n",
    "val_set = test_datagen.flow_from_dataframe(pd.DataFrame({'image': X_val, 'target' : y_val}),\n",
    "                                                y_col='target',\n",
    "                                                x_col='image',\n",
    "                                                target_size=(IMG_SIZE, IMG_SIZE),\n",
    "                                                class_mode='binary',\n",
    "                                                batch_size=32,\n",
    "                                                seed=42)\n",
    "\n",
    "test_set = test_datagen.flow_from_dataframe(pd.DataFrame({'image': X_test, 'target' : y_test}),\n",
    "                                                x_col='image',\n",
    "                                                y_col='target',\n",
    "                                                target_size=(IMG_SIZE, IMG_SIZE),\n",
    "                                                class_mode='binary',\n",
    "                                                batch_size=1,\n",
    "                                                shuffle=False)\n"
   ]
  },
  {
   "cell_type": "code",
   "execution_count": 8,
   "metadata": {},
   "outputs": [],
   "source": [
    "early_stopping = keras.callbacks.EarlyStopping(\n",
    "    monitor='val_loss',\n",
    "    patience=5,\n",
    "    min_delta=1e-7,\n",
    "    restore_best_weights=True,\n",
    ")\n",
    "\n",
    "plateau = keras.callbacks.ReduceLROnPlateau(\n",
    "    monitor='val_loss',\n",
    "    factor = 0.2,                                     \n",
    "    patience = 2,                                   \n",
    "    min_delt = 1e-7,                                \n",
    "    cooldown = 0,                               \n",
    "    verbose = 1\n",
    ") "
   ]
  },
  {
   "cell_type": "code",
   "execution_count": 9,
   "metadata": {},
   "outputs": [],
   "source": [
    "def get_model():\n",
    "    \n",
    "    #Input  = [width, height, channels]\n",
    "    inputs = Input(shape=(IMG_SIZE, IMG_SIZE, 3))\n",
    "    \n",
    "    # Block One\n",
    "    x = Conv2D(filters=16, kernel_size=3, padding='valid')(inputs) # 222, 222, 16\n",
    "    x = BatchNormalization()(x)\n",
    "    x = Activation('relu')(x)\n",
    "    x = MaxPool2D()(x) # 111, 111, 16\n",
    "    x = Dropout(0.2)(x)\n",
    "\n",
    "    # Block Two\n",
    "    x = Conv2D(filters=32, kernel_size=3, padding='valid')(x) # 109, 109, 32\n",
    "    x = BatchNormalization()(x)\n",
    "    x = Activation('relu')(x)\n",
    "    x = MaxPool2D()(x) # 54, 54, 32\n",
    "    x = Dropout(0.2)(x)\n",
    "    \n",
    "    # Block Three\n",
    "    x = Conv2D(filters=64, kernel_size=3, padding='valid')(x) # 52, 52, 64\n",
    "    x = Conv2D(filters=64, kernel_size=3, padding='valid')(x) # 50, 50, 64\n",
    "    x = BatchNormalization()(x)\n",
    "    x = Activation('relu')(x)\n",
    "    x = MaxPool2D()(x) # 25, 25, 64\n",
    "    x = Dropout(0.4)(x)\n",
    "\n",
    "    # Head\n",
    "    x = Flatten()(x) # 40000\n",
    "    x = Dense(64, activation='relu')(x) # 64\n",
    "    x = Dropout(0.5)(x)\n",
    "    \n",
    "    #Final Layer (Output)\n",
    "    output = Dense(1, activation='sigmoid')(x)\n",
    "    \n",
    "    model = keras.Model(inputs=[inputs], outputs=output)\n",
    "    \n",
    "    return model"
   ]
  },
  {
   "cell_type": "code",
   "execution_count": 10,
   "metadata": {},
   "outputs": [
    {
     "name": "stdout",
     "output_type": "stream",
     "text": [
      "Metal device set to: Apple M1 Pro\n",
      "\n",
      "systemMemory: 16.00 GB\n",
      "maxCacheSize: 5.33 GB\n",
      "\n"
     ]
    },
    {
     "name": "stderr",
     "output_type": "stream",
     "text": [
      "2022-09-30 13:38:52.280076: I tensorflow/core/common_runtime/pluggable_device/pluggable_device_factory.cc:306] Could not identify NUMA node of platform GPU ID 0, defaulting to 0. Your kernel may not have been built with NUMA support.\n",
      "2022-09-30 13:38:52.280226: I tensorflow/core/common_runtime/pluggable_device/pluggable_device_factory.cc:272] Created TensorFlow device (/job:localhost/replica:0/task:0/device:GPU:0 with 0 MB memory) -> physical PluggableDevice (device: 0, name: METAL, pci bus id: <undefined>)\n"
     ]
    },
    {
     "name": "stdout",
     "output_type": "stream",
     "text": [
      "Model: \"model\"\n",
      "_________________________________________________________________\n",
      " Layer (type)                Output Shape              Param #   \n",
      "=================================================================\n",
      " input_1 (InputLayer)        [(None, 224, 224, 3)]     0         \n",
      "                                                                 \n",
      " conv2d (Conv2D)             (None, 222, 222, 16)      448       \n",
      "                                                                 \n",
      " batch_normalization (BatchN  (None, 222, 222, 16)     64        \n",
      " ormalization)                                                   \n",
      "                                                                 \n",
      " activation (Activation)     (None, 222, 222, 16)      0         \n",
      "                                                                 \n",
      " max_pooling2d (MaxPooling2D  (None, 111, 111, 16)     0         \n",
      " )                                                               \n",
      "                                                                 \n",
      " dropout (Dropout)           (None, 111, 111, 16)      0         \n",
      "                                                                 \n",
      " conv2d_1 (Conv2D)           (None, 109, 109, 32)      4640      \n",
      "                                                                 \n",
      " batch_normalization_1 (Batc  (None, 109, 109, 32)     128       \n",
      " hNormalization)                                                 \n",
      "                                                                 \n",
      " activation_1 (Activation)   (None, 109, 109, 32)      0         \n",
      "                                                                 \n",
      " max_pooling2d_1 (MaxPooling  (None, 54, 54, 32)       0         \n",
      " 2D)                                                             \n",
      "                                                                 \n",
      " dropout_1 (Dropout)         (None, 54, 54, 32)        0         \n",
      "                                                                 \n",
      " conv2d_2 (Conv2D)           (None, 52, 52, 64)        18496     \n",
      "                                                                 \n",
      " conv2d_3 (Conv2D)           (None, 50, 50, 64)        36928     \n",
      "                                                                 \n",
      " batch_normalization_2 (Batc  (None, 50, 50, 64)       256       \n",
      " hNormalization)                                                 \n",
      "                                                                 \n",
      " activation_2 (Activation)   (None, 50, 50, 64)        0         \n",
      "                                                                 \n",
      " max_pooling2d_2 (MaxPooling  (None, 25, 25, 64)       0         \n",
      " 2D)                                                             \n",
      "                                                                 \n",
      " dropout_2 (Dropout)         (None, 25, 25, 64)        0         \n",
      "                                                                 \n",
      " flatten (Flatten)           (None, 40000)             0         \n",
      "                                                                 \n",
      " dense (Dense)               (None, 64)                2560064   \n",
      "                                                                 \n",
      " dropout_3 (Dropout)         (None, 64)                0         \n",
      "                                                                 \n",
      " dense_1 (Dense)             (None, 1)                 65        \n",
      "                                                                 \n",
      "=================================================================\n",
      "Total params: 2,621,089\n",
      "Trainable params: 2,620,865\n",
      "Non-trainable params: 224\n",
      "_________________________________________________________________\n"
     ]
    }
   ],
   "source": [
    "model = get_model()\n",
    "model.compile(loss='binary_crossentropy',\n",
    "             optimizer = keras.optimizers.Adam(learning_rate=3e-5), \n",
    "             metrics='binary_accuracy')\n",
    "\n",
    "model.summary()"
   ]
  },
  {
   "cell_type": "code",
   "execution_count": null,
   "metadata": {},
   "outputs": [],
   "source": [
    "history = model.fit(train_set,\n",
    "          batch_size=32, epochs=50,\n",
    "          validation_data=val_set,\n",
    "          callbacks=[early_stopping, plateau])"
   ]
  },
  {
   "cell_type": "code",
   "execution_count": 12,
   "metadata": {},
   "outputs": [],
   "source": [
    "def print_score(model, set):\n",
    "    score = model.evaluate(set, verbose=1)\n",
    "    print('Val loss:', score[0])\n",
    "    print('Val accuracy:', score[1])"
   ]
  },
  {
   "cell_type": "code",
   "execution_count": 15,
   "metadata": {},
   "outputs": [
    {
     "name": "stderr",
     "output_type": "stream",
     "text": [
      "2022-09-30 13:41:30.241933: I tensorflow/core/grappler/optimizers/custom_graph_optimizer_registry.cc:114] Plugin optimizer for device_type GPU is enabled.\n"
     ]
    },
    {
     "name": "stdout",
     "output_type": "stream",
     "text": [
      "33/33 [==============================] - 6s 180ms/step - loss: 0.3122 - binary_accuracy: 0.8968\n",
      "Val loss: 0.3121780455112457\n",
      "Val accuracy: 0.8968481421470642\n",
      "624/624 [==============================] - 4s 7ms/step - loss: 0.3748 - binary_accuracy: 0.8494\n",
      "Val loss: 0.37475207448005676\n",
      "Val accuracy: 0.8493589758872986\n"
     ]
    }
   ],
   "source": [
    "print_score(model, val_set)\n",
    "print_score(model, test_set)"
   ]
  },
  {
   "cell_type": "code",
   "execution_count": null,
   "metadata": {},
   "outputs": [],
   "source": [
    "model.save('model/my_model.h5')"
   ]
  },
  {
   "cell_type": "code",
   "execution_count": 16,
   "metadata": {},
   "outputs": [
    {
     "name": "stdout",
     "output_type": "stream",
     "text": [
      "Downloading data from https://storage.googleapis.com/tensorflow/keras-applications/resnet/resnet152v2_weights_tf_dim_ordering_tf_kernels_notop.h5\n",
      "234545216/234545216 [==============================] - 6s 0us/step\n"
     ]
    }
   ],
   "source": [
    "resnet_model = tf.keras.applications.ResNet152V2(\n",
    "    weights='imagenet',\n",
    "    input_shape=(IMG_SIZE, IMG_SIZE, 3),\n",
    "    include_top=False)\n",
    "\n",
    "resnet_model.trainable = False\n",
    "\n",
    "def get_pretrained():\n",
    "    \n",
    "    #Input = [width, height, channels]\n",
    "    inputs = Input(shape=(IMG_SIZE, IMG_SIZE, 3))\n",
    "    \n",
    "    x = resnet_model(inputs)\n",
    "\n",
    "    # Head\n",
    "    x = GlobalAveragePooling2D()(x)\n",
    "    x = Dense(128, activation='relu')(x)\n",
    "    x = Dropout(0.1)(x)\n",
    "    \n",
    "    #Final Layer (Output)\n",
    "    output = Dense(1, activation='sigmoid')(x)\n",
    "    \n",
    "    model = Model(inputs=[inputs], outputs=output)\n",
    "    \n",
    "    return model"
   ]
  },
  {
   "cell_type": "code",
   "execution_count": 17,
   "metadata": {},
   "outputs": [
    {
     "name": "stdout",
     "output_type": "stream",
     "text": [
      "Model: \"model_1\"\n",
      "_________________________________________________________________\n",
      " Layer (type)                Output Shape              Param #   \n",
      "=================================================================\n",
      " input_3 (InputLayer)        [(None, 224, 224, 3)]     0         \n",
      "                                                                 \n",
      " resnet152v2 (Functional)    (None, 7, 7, 2048)        58331648  \n",
      "                                                                 \n",
      " global_average_pooling2d (G  (None, 2048)             0         \n",
      " lobalAveragePooling2D)                                          \n",
      "                                                                 \n",
      " dense_2 (Dense)             (None, 128)               262272    \n",
      "                                                                 \n",
      " dropout_4 (Dropout)         (None, 128)               0         \n",
      "                                                                 \n",
      " dense_3 (Dense)             (None, 1)                 129       \n",
      "                                                                 \n",
      "=================================================================\n",
      "Total params: 58,594,049\n",
      "Trainable params: 4,731,137\n",
      "Non-trainable params: 53,862,912\n",
      "_________________________________________________________________\n"
     ]
    }
   ],
   "source": [
    "model_pretrained = get_pretrained()\n",
    "\n",
    "resnet_model.trainable = True\n",
    "\n",
    "for layer in resnet_model.layers[:-13]:\n",
    "    layer.trainable = False\n",
    "\n",
    "model_pretrained.compile(loss='binary_crossentropy'\n",
    "              , optimizer = keras.optimizers.Adam(learning_rate=5e-5), metrics='binary_accuracy')\n",
    "\n",
    "model_pretrained.summary()"
   ]
  },
  {
   "cell_type": "code",
   "execution_count": null,
   "metadata": {},
   "outputs": [],
   "source": [
    "history = model_pretrained.fit(train_set,\n",
    "          batch_size=32, epochs=50,\n",
    "          validation_data=val_set,\n",
    "          callbacks=[early_stopping, plateau])"
   ]
  },
  {
   "cell_type": "code",
   "execution_count": 19,
   "metadata": {},
   "outputs": [],
   "source": [
    "model_pretrained = tf.keras.models.load_model('model/imagnet_pretrain_model.h5')"
   ]
  },
  {
   "cell_type": "code",
   "execution_count": 20,
   "metadata": {},
   "outputs": [
    {
     "name": "stderr",
     "output_type": "stream",
     "text": [
      "2022-09-30 13:43:00.518425: I tensorflow/core/grappler/optimizers/custom_graph_optimizer_registry.cc:114] Plugin optimizer for device_type GPU is enabled.\n"
     ]
    },
    {
     "name": "stdout",
     "output_type": "stream",
     "text": [
      "33/33 [==============================] - 15s 355ms/step - loss: 0.0714 - binary_accuracy: 0.9771\n",
      "Val loss: 0.07136379927396774\n",
      "Val accuracy: 0.9770773649215698\n",
      "624/624 [==============================] - 26s 39ms/step - loss: 0.2819 - binary_accuracy: 0.8958\n",
      "Val loss: 0.28193584084510803\n",
      "Val accuracy: 0.8958333730697632\n"
     ]
    }
   ],
   "source": [
    "print_score(model_pretrained, val_set)\n",
    "print_score(model_pretrained, test_set)"
   ]
  },
  {
   "cell_type": "code",
   "execution_count": 21,
   "metadata": {},
   "outputs": [
    {
     "name": "stderr",
     "output_type": "stream",
     "text": [
      "2022-09-30 13:47:31.532993: I tensorflow/core/grappler/optimizers/custom_graph_optimizer_registry.cc:114] Plugin optimizer for device_type GPU is enabled.\n"
     ]
    },
    {
     "name": "stdout",
     "output_type": "stream",
     "text": [
      "624/624 [==============================] - 24s 35ms/step\n"
     ]
    },
    {
     "data": {
      "text/plain": [
       "array([[172,  62],\n",
       "       [  3, 387]])"
      ]
     },
     "execution_count": 21,
     "metadata": {},
     "output_type": "execute_result"
    }
   ],
   "source": [
    "pred_vals = model_pretrained.predict(test_set)\n",
    "cm = confusion_matrix(test_set.classes, pred_vals > 0.5)\n",
    "cm"
   ]
  },
  {
   "cell_type": "code",
   "execution_count": 22,
   "metadata": {},
   "outputs": [
    {
     "data": {
      "text/plain": [
       "<Figure size 640x480 with 0 Axes>"
      ]
     },
     "metadata": {},
     "output_type": "display_data"
    },
    {
     "data": {
      "image/png": "[encoded data removed]",
      "text/plain": [
       "<Figure size 640x480 with 1 Axes>"
      ]
     },
     "metadata": {},
     "output_type": "display_data"
    }
   ],
   "source": [
    "plt.figure()\n",
    "disp = ConfusionMatrixDisplay(cm)\n",
    "disp.plot(colorbar=False, cmap=plt.cm.Blues)\n",
    "plt.xticks(range(2), ['Normal', 'Pneumonia'], fontsize=16)\n",
    "plt.yticks(range(2), ['Normal', 'Pneumonia'], fontsize=16)\n",
    "plt.show()"
   ]
  },
  {
   "cell_type": "code",
   "execution_count": 23,
   "metadata": {},
   "outputs": [
    {
     "data": {
      "text/html": [
       "<div>\n",
       "<style scoped>\n",
       "    .dataframe tbody tr th:only-of-type {\n",
       "        vertical-align: middle;\n",
       "    }\n",
       "\n",
       "    .dataframe tbody tr th {\n",
       "        vertical-align: top;\n",
       "    }\n",
       "\n",
       "    .dataframe thead th {\n",
       "        text-align: right;\n",
       "    }\n",
       "</style>\n",
       "<table border=\"1\" class=\"dataframe\">\n",
       "  <thead>\n",
       "    <tr style=\"text-align: right;\">\n",
       "      <th></th>\n",
       "      <th>0</th>\n",
       "      <th>1</th>\n",
       "      <th>accuracy</th>\n",
       "      <th>macro avg</th>\n",
       "      <th>weighted avg</th>\n",
       "    </tr>\n",
       "  </thead>\n",
       "  <tbody>\n",
       "    <tr>\n",
       "      <th>precision</th>\n",
       "      <td>0.982857</td>\n",
       "      <td>0.861915</td>\n",
       "      <td>0.895833</td>\n",
       "      <td>0.922386</td>\n",
       "      <td>0.907269</td>\n",
       "    </tr>\n",
       "    <tr>\n",
       "      <th>recall</th>\n",
       "      <td>0.735043</td>\n",
       "      <td>0.992308</td>\n",
       "      <td>0.895833</td>\n",
       "      <td>0.863675</td>\n",
       "      <td>0.895833</td>\n",
       "    </tr>\n",
       "    <tr>\n",
       "      <th>f1-score</th>\n",
       "      <td>0.841076</td>\n",
       "      <td>0.922527</td>\n",
       "      <td>0.895833</td>\n",
       "      <td>0.881801</td>\n",
       "      <td>0.891983</td>\n",
       "    </tr>\n",
       "    <tr>\n",
       "      <th>support</th>\n",
       "      <td>234.000000</td>\n",
       "      <td>390.000000</td>\n",
       "      <td>0.895833</td>\n",
       "      <td>624.000000</td>\n",
       "      <td>624.000000</td>\n",
       "    </tr>\n",
       "  </tbody>\n",
       "</table>\n",
       "</div>"
      ],
      "text/plain": [
       "                    0           1  accuracy   macro avg  weighted avg\n",
       "precision    0.982857    0.861915  0.895833    0.922386      0.907269\n",
       "recall       0.735043    0.992308  0.895833    0.863675      0.895833\n",
       "f1-score     0.841076    0.922527  0.895833    0.881801      0.891983\n",
       "support    234.000000  390.000000  0.895833  624.000000    624.000000"
      ]
     },
     "execution_count": 23,
     "metadata": {},
     "output_type": "execute_result"
    }
   ],
   "source": [
    "pd.DataFrame(classification_report(test_set.classes, pred_vals > 0.5, output_dict=True))"
   ]
  },
  {
   "cell_type": "code",
   "execution_count": null,
   "metadata": {},
   "outputs": [],
   "source": [
    "model_pretrained.save('model/imagnet_pretrain_model.h5')"
   ]
  },
  {
   "cell_type": "code",
   "execution_count": null,
   "metadata": {},
   "outputs": [],
   "source": []
  }
 ],
 "metadata": {
  "kernelspec": {
   "display_name": "Python 3.10.6 ('tf')",
   "language": "python",
   "name": "python3"
  },
  "language_info": {
   "codemirror_mode": {
    "name": "ipython",
    "version": 3
   },
   "file_extension": ".py",
   "mimetype": "text/x-python",
   "name": "python",
   "nbconvert_exporter": "python",
   "pygments_lexer": "ipython3",
   "version": "3.10.6"
  },
  "orig_nbformat": 4,
  "vscode": {
   "interpreter": {
    "hash": "52ee2977380704a66854748a73250e0671a9318bd5b3fd45a3df9f851ae61629"
   }
  }
 },
 "nbformat": 4,
 "nbformat_minor": 2
}
